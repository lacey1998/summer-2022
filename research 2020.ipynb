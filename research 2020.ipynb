{
 "cells": [
  {
   "cell_type": "code",
   "execution_count": 1,
   "id": "40730da1",
   "metadata": {},
   "outputs": [],
   "source": [
    "import numpy as np\n",
    "import pandas as pd"
   ]
  },
  {
   "cell_type": "code",
   "execution_count": 2,
   "id": "2ceae247",
   "metadata": {},
   "outputs": [],
   "source": [
    "data_f = np.array([[1,0,0,1,0],\n",
    "                 [1,1,0,0,0],\n",
    "                 [1,0,0,1,1],\n",
    "                 [1,1,1,0,0]])\n",
    "data_g= np.array([[1,0,0,0,0],\n",
    "                [1,1,1,1,0],\n",
    "                [0,0,1,1,1],\n",
    "                [1,1,0,0,0]])"
   ]
  },
  {
   "cell_type": "code",
   "execution_count": 3,
   "id": "ab274aef",
   "metadata": {},
   "outputs": [
    {
     "name": "stdout",
     "output_type": "stream",
     "text": [
      "4\n"
     ]
    }
   ],
   "source": [
    "print(len(data_g))"
   ]
  },
  {
   "cell_type": "code",
   "execution_count": 4,
   "id": "edd3cd97",
   "metadata": {},
   "outputs": [
    {
     "data": {
      "text/plain": [
       "array([[0, 0, 1, 1, 1],\n",
       "       [1, 0, 0, 0, 0],\n",
       "       [1, 1, 0, 0, 0],\n",
       "       [1, 1, 1, 1, 0]])"
      ]
     },
     "execution_count": 4,
     "metadata": {},
     "output_type": "execute_result"
    }
   ],
   "source": [
    "#remove duplicate rows\n",
    "unique_f = np.unique(data_f,axis=0)\n",
    "unique_f\n",
    "unique_g = np.unique(data_g,axis=0)\n",
    "unique_g"
   ]
  },
  {
   "cell_type": "code",
   "execution_count": 5,
   "id": "59413193",
   "metadata": {},
   "outputs": [
    {
     "data": {
      "text/plain": [
       "array([0, 3, 2, 1], dtype=int64)"
      ]
     },
     "execution_count": 5,
     "metadata": {},
     "output_type": "execute_result"
    }
   ],
   "source": [
    "col_sum = np.sum(data_g, axis=1)\n",
    "sort_index = np.argsort(col_sum) # index sort in descending order\n",
    "out_matrix = data_g[:, sort_index]\n",
    "sort_index"
   ]
  },
  {
   "cell_type": "code",
   "execution_count": 6,
   "id": "9784fcb2",
   "metadata": {},
   "outputs": [
    {
     "data": {
      "text/plain": [
       "array([[1, 1, 1, 1, 0],\n",
       "       [0, 0, 1, 1, 1],\n",
       "       [1, 1, 0, 0, 0],\n",
       "       [1, 0, 0, 0, 0]])"
      ]
     },
     "execution_count": 6,
     "metadata": {},
     "output_type": "execute_result"
    }
   ],
   "source": [
    "#sort the array by sum(max to min)\n",
    "data_g=sorted(data_g, key=lambda x: sum(x),reverse=True)\n",
    "data_g = np.asarray(data_g)\n",
    "data_g"
   ]
  },
  {
   "cell_type": "code",
   "execution_count": 7,
   "id": "a7082a14",
   "metadata": {},
   "outputs": [],
   "source": [
    "#remove super set\n",
    "for i in range(len(data_g)):\n",
    "    zero_index = np.where(data_g[i] == 0)[0]\n",
    "    if(len(zero_index) != 0):\n",
    "        zero_cols = data_g[:, np.array(zero_index)]\n",
    "        rows_sum = np.sum(zero_cols, axis=1)\n",
    "        #print(zero_cols)\n",
    "        #print(rows_sum)\n",
    "        if 0 in rows_sum:\n",
    "            np.delete(data_g,i,0)         "
   ]
  },
  {
   "cell_type": "code",
   "execution_count": 8,
   "id": "7e11e8a0",
   "metadata": {
    "scrolled": true
   },
   "outputs": [
    {
     "name": "stdout",
     "output_type": "stream",
     "text": [
      "              0  1  2  3  4  Row_Total\n",
      "0             1  0  0  1  0          2\n",
      "1             1  0  0  1  1          3\n",
      "2             1  1  0  0  0          2\n",
      "3             1  1  1  0  0          3\n",
      "Column_Total  4  2  1  2  1         10\n",
      "the variable that appears max in f is：  4\n",
      "              0  1  2  3  4  Row_Total\n",
      "0             0  0  1  1  1          3\n",
      "1             1  0  0  0  0          1\n",
      "2             1  1  0  0  0          2\n",
      "3             1  1  1  1  0          4\n",
      "Column_Total  3  2  2  2  1         10\n",
      "the variable that appears max in g is：  3\n"
     ]
    }
   ],
   "source": [
    "#sum the rows\n",
    "f=pd.DataFrame(unique_f)\n",
    "f.loc['Column_Total']= f.sum(numeric_only=True, axis=0)\n",
    "max_sum_column_f=f.max().max()\n",
    "f.loc[:,'Row_Total'] = f.sum(numeric_only=True,axis=1)\n",
    "#df['sum_row'] = df.sum(axis=1)\n",
    "#df['sum_column'] = df.sum(axis=0)\n",
    "print(f)\n",
    "print(\"the variable that appears max in f is： \", max_sum_column_f)\n",
    "\n",
    "g=pd.DataFrame(unique_g)\n",
    "g.loc['Column_Total']= g.sum(numeric_only=True, axis=0)\n",
    "max_sum_column_g=g.max().max()\n",
    "g.loc[:,'Row_Total'] = g.sum(numeric_only=True,axis=1)\n",
    "#df['sum_row'] = df.sum(axis=1)\n",
    "#df['sum_column'] = df.sum(axis=0)\n",
    "print(g)\n",
    "print(\"the variable that appears max in g is： \", max_sum_column_g)"
   ]
  },
  {
   "cell_type": "code",
   "execution_count": 9,
   "id": "0cf7e2c5",
   "metadata": {},
   "outputs": [],
   "source": [
    "# pre-req\n",
    "#!! f and g are dataframes \n",
    "check_p=1\n",
    "satisfy=False\n",
    "def check_pre(f,g):\n",
    "# 1. assume var in f and g are the same, but we check if # of columns in f = # of columns in g \n",
    "    if len(f) != len(g): \n",
    "        print(\"not dual\")\n",
    "        check_p = 0\n",
    "# 2.check if largest of sum_row in f <= # of rows in g, largest value of sum_row in g <= # of rows in f \n",
    "    if max(f['Row_Total'][0:-1]) > len(g): #f.loc\n",
    "        print(\"not dual\")\n",
    "        check_p = 0\n",
    "    if max(g['Row_Total'][0:-1]) > len(f):\n",
    "        print(\"not dual\")\n",
    "        check_p = 0\n",
    "# 4. sum 2^(-|c in f|)+sum 2^(-|c in g|) >=1, where c is each sum_row value(for loop)>=1\n",
    "    sum_fg=0\n",
    "    for i in range (len(f)-1):\n",
    "        sum_fg+=1/(2**(f['Row_Total'][i]))\n",
    "    for i in range (len(f)-1):\n",
    "        sum_fg+=1/(2**(g['Row_Total'][i])) \n",
    "    if sum_fg < 1:\n",
    "        print(\"not dual\")\n",
    "        check_p = 0\n",
    "    \n",
    "# 5. if (# of rows in f) * (# of row in g) >1\n",
    "    if len(f)*len(g) <= 1:\n",
    "        print(\"not dual\")\n",
    "        \n",
    "# 6. C ^ C' != empty\n",
    "    for i in range(len(f)):\n",
    "        if f.loc['Column_Total'][i] ^ g.loc['Column_Total'][i] == True:\n",
    "            pass\n",
    "        else:\n",
    "            satisfy=True\n",
    "            break\n",
    "    if satisfy == False:\n",
    "            print(\"not dual \")"
   ]
  },
  {
   "cell_type": "code",
   "execution_count": 14,
   "id": "ede482e1",
   "metadata": {},
   "outputs": [
    {
     "data": {
      "text/plain": [
       "array([[1, 0, 0, 0, 0],\n",
       "       [0, 0, 1, 0, 0]])"
      ]
     },
     "execution_count": 14,
     "metadata": {},
     "output_type": "execute_result"
    }
   ],
   "source": [
    "# test for split function  \n",
    "data_f = np.array([[1,0,0,1,0],\n",
    "                 [1,1,0,0,0],\n",
    "                 [1,0,0,1,1],\n",
    "                 [0,1,1,0,0]])\n",
    "\n",
    "f0,f1=split(data_f)\n",
    "f1"
   ]
  },
  {
   "cell_type": "code",
   "execution_count": null,
   "id": "aa07ff91",
   "metadata": {
    "scrolled": true
   },
   "outputs": [],
   "source": [
    "# #test fk\n",
    "# data_f = np.array([[1,0,0,1,0],\n",
    "#                  [1,1,0,0,0],\n",
    "#                  [1,0,0,1,1],\n",
    "#                  [0,1,1,0,0]])\n",
    "# data_g= np.array([[1,1,0,0,0],\n",
    "#                 [1,1,1,1,0],\n",
    "#                 [0,0,1,1,1],\n",
    "#                 [1,1,0,0,0]])\n",
    "# path=[]\n",
    "# fk(data_f, data_g, [])"
   ]
  },
  {
   "cell_type": "code",
   "execution_count": 12,
   "id": "ccbf6c64",
   "metadata": {},
   "outputs": [
    {
     "name": "stdout",
     "output_type": "stream",
     "text": [
      "   0  1  2  3  4  Row_Total\n",
      "0  1  0  0  1  0          2\n"
     ]
    },
    {
     "data": {
      "text/plain": [
       "array([[1., 0., 0., 0., 0.],\n",
       "       [0., 0., 0., 0., 0.],\n",
       "       [0., 0., 0., 0., 0.],\n",
       "       [0., 0., 0., 1., 0.],\n",
       "       [0., 0., 0., 0., 0.]])"
      ]
     },
     "execution_count": 12,
     "metadata": {},
     "output_type": "execute_result"
    }
   ],
   "source": [
    "#test for dual printer\n",
    "dual_matrix=[]\n",
    "def print_dual(L,R):\n",
    "    if len(L)==1:\n",
    "        dual_matrix=np.zeros((len(f.columns)-1,len(f.columns)-1))      \n",
    "        for index, i in enumerate(f.iloc[0]):\n",
    "            if i==1:\n",
    "                dual_matrix[index][index]=1\n",
    "        return dual_matrix\n",
    "f=f.head(1)\n",
    "print(f)\n",
    "print_dual(f,g)"
   ]
  },
  {
   "cell_type": "code",
   "execution_count": 13,
   "id": "9050847b",
   "metadata": {},
   "outputs": [],
   "source": [
    "#spiltting, max sum_column variable is the splitting var x\n",
    "#F0=rows that contains x, change the position of x to 0\n",
    "#F1=http://localhost:8888/notebooks/research%20.ipynb# rest of the rows\n",
    "def split(m):\n",
    "    max_sum_column = m.max().max()\n",
    "    #max_sum_column is the index of the splitting var\n",
    "    # split function return F0, F1 or g0, g1\n",
    "    f0=m[m[:,max_sum_column]==0]\n",
    "    f1=m[m[:,max_sum_column]!=0]\n",
    "    f1[:,max_sum_column]=0\n",
    "    return f0,f1\n",
    "\n",
    "def check_dim(L,R):\n",
    "    return (len(L)>1 and len(R)>1)\n",
    "\n",
    "dual_matrix=[]\n",
    "def print_dual(L,R):\n",
    "    if len(L)==1:\n",
    "        dual_matrix=np.zeros((len(f.columns)-1,len(f.columns)-1))      \n",
    "        for index, i in enumerate(f.iloc[0]):\n",
    "            print(i)\n",
    "            if i==1:\n",
    "                dual_matrix[index][index]=1\n",
    "        return dual_matrix\n",
    "                \n",
    "        \n",
    "# e.g.: error_path = [path_0, path_1] = [['L', 'R'], ['L','L','L']]\n",
    "#error_path=[]\n",
    "def fk(L, R, path):\n",
    "    if check_pre(L,R) == False:\n",
    "        #error_path.append(path) \n",
    "        return\n",
    "    if check_dim(L,R)==False:\n",
    "        print(print_dual(L,R))\n",
    "        \n",
    "    else:\n",
    "        f0,f1=split(L)\n",
    "        g0,g1=split(R)\n",
    "        L=np.concatenate((f0, f1),axis=0)\n",
    "        R=g1\n",
    "        print(f\"path: {path}\")\n",
    "        path.append(\"L\")\n",
    "        fk(L, R, path)\n",
    "        L=np.concatenate((g0,g1), axis=0)\n",
    "        R=f1\n",
    "        path = path[0:-2]\n",
    "        path.append(\"R\")\n",
    "        fk(L, R, path)\n",
    "#     return error_path\n",
    "    print(\"it is not dual\")"
   ]
  },
  {
   "cell_type": "code",
   "execution_count": null,
   "id": "a09878dc",
   "metadata": {},
   "outputs": [],
   "source": []
  }
 ],
 "metadata": {
  "kernelspec": {
   "display_name": "Python 3 (ipykernel)",
   "language": "python",
   "name": "python3"
  },
  "language_info": {
   "codemirror_mode": {
    "name": "ipython",
    "version": 3
   },
   "file_extension": ".py",
   "mimetype": "text/x-python",
   "name": "python",
   "nbconvert_exporter": "python",
   "pygments_lexer": "ipython3",
   "version": "3.9.7"
  }
 },
 "nbformat": 4,
 "nbformat_minor": 5
}
