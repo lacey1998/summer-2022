{
 "cells": [
  {
   "cell_type": "code",
   "execution_count": 1,
   "id": "40730da1",
   "metadata": {},
   "outputs": [],
   "source": [
    "import numpy as np\n",
    "import pandas as pd"
   ]
  },
  {
   "cell_type": "code",
   "execution_count": 2,
   "id": "2ceae247",
   "metadata": {},
   "outputs": [],
   "source": [
    "data_f= np.array([[1,0,1,0,0,0,0,0],\n",
    "                   [1,0,0,1,0,0,0,0],\n",
    "                   [0,1,1,0,0,0,0,0],\n",
    "                   [0,1,0,1,0,0,0,0],\n",
    "                   [0,0,0,0,1,0,1,0],\n",
    "                   [0,0,0,0,1,0,0,1],\n",
    "                   [0,0,0,0,0,1,1,0],\n",
    "                   [0,0,0,0,0,1,0,1]])\n",
    "# data_g= np.array([[1,0,0,0,0],\n",
    "#                 [1,1,1,1,0],\n",
    "#                 [0,0,1,1,1],\n",
    "#                 [1,1,0,0,0]])\n",
    "data_g= np.array([[1,1,0,0,0,0,1,1],\n",
    "                   [0,0,1,1,1,1,0,0],\n",
    "                   [1,1,0,0,1,1,0,0],\n",
    "                   [0,0,1,1,0,0,1,1]])"
   ]
  },
  {
   "cell_type": "code",
   "execution_count": 3,
   "id": "edd3cd97",
   "metadata": {},
   "outputs": [
    {
     "data": {
      "text/plain": [
       "array([[0, 0, 1, 1, 0, 0, 1, 1],\n",
       "       [0, 0, 1, 1, 1, 1, 0, 0],\n",
       "       [1, 1, 0, 0, 0, 0, 1, 1],\n",
       "       [1, 1, 0, 0, 1, 1, 0, 0]])"
      ]
     },
     "execution_count": 3,
     "metadata": {},
     "output_type": "execute_result"
    }
   ],
   "source": [
    "#remove duplicate rows\n",
    "unique_f = np.unique(data_f,axis=0)\n",
    "unique_f\n",
    "unique_g = np.unique(data_g,axis=0)\n",
    "unique_g"
   ]
  },
  {
   "cell_type": "code",
   "execution_count": 4,
   "id": "59413193",
   "metadata": {},
   "outputs": [
    {
     "data": {
      "text/plain": [
       "array([0, 1, 2, 3], dtype=int64)"
      ]
     },
     "execution_count": 4,
     "metadata": {},
     "output_type": "execute_result"
    }
   ],
   "source": [
    "col_sum = np.sum(data_g, axis=1)\n",
    "sort_index = np.argsort(col_sum) # index sort in descending order\n",
    "out_matrix = data_g[:, sort_index]\n",
    "sort_index"
   ]
  },
  {
   "cell_type": "code",
   "execution_count": 5,
   "id": "9784fcb2",
   "metadata": {},
   "outputs": [],
   "source": [
    "#sort the array by sum(max to min)\n",
    "data_g=sorted(data_g, key=lambda x: sum(x),reverse=True)\n",
    "data_g = np.asarray(data_g)\n",
    "data_f=sorted(data_f, key=lambda x: sum(x),reverse=True)\n",
    "data_f = np.asarray(data_f)"
   ]
  },
  {
   "cell_type": "code",
   "execution_count": 6,
   "id": "a7082a14",
   "metadata": {},
   "outputs": [],
   "source": [
    "#remove super set\n",
    "def remove_superset(data):\n",
    "    for i in range(len(data)):\n",
    "        zero_index = np.where(data[i] == 0)[0]\n",
    "        if(len(zero_index) != 0):\n",
    "            zero_cols = data[:, np.array(zero_index)]\n",
    "            rows_sum = np.sum(zero_cols, axis=1)\n",
    "            #print(zero_cols)\n",
    "            #print(rows_sum)\n",
    "            if 0 in rows_sum:\n",
    "                np.delete(data,i,0) \n",
    "    return data      \n",
    "np_f=remove_superset(data_f)\n",
    "np_g=remove_superset(data_g)"
   ]
  },
  {
   "cell_type": "code",
   "execution_count": null,
   "id": "7e11e8a0",
   "metadata": {
    "scrolled": true
   },
   "outputs": [],
   "source": [
    "#sum the rows\n",
    "def display(f,g):\n",
    "    f=pd.DataFrame(unique_f)\n",
    "    f.loc['Column_Total']= f.sum(numeric_only=True, axis=0)\n",
    "    fmax_col_index = np.argmax(np.array(f.loc['Column_Total']))\n",
    "    f.loc[:,'Row_Total'] = f.sum(numeric_only=True,axis=1)\n",
    "    fmax_row_value=max(f['Row_Total'][0:-1])\n",
    "    df_f=f\n",
    "    print(df_f)\n",
    "    print(\"the variable that appears max in f is: X\",fmax_col_index)\n",
    "\n",
    "    g=pd.DataFrame(unique_g)\n",
    "    g.loc['Column_Total']= g.sum(numeric_only=True, axis=0)\n",
    "    gmax_col_index = np.argmax(np.array(g.loc['Column_Total']))\n",
    "    g.loc[:,'Row_Total'] = g.sum(numeric_only=True,axis=1)\n",
    "    gmax_row_value=max(g['Row_Total'][0:-1])\n",
    "    df_g=g\n",
    "    print(df_g)\n",
    "    print(\"the variable that appears max in g is：X\",gmax_col_index)\n",
    "    return df_f,df_g"
   ]
  },
  {
   "cell_type": "code",
   "execution_count": null,
   "id": "100d8e39",
   "metadata": {},
   "outputs": [],
   "source": [
    "# m=np.array(f)[0:-1, 0:-1]\n",
    "# print(m)\n",
    "# a=max(f['Row_Total'][0:-1])\n",
    "# print(a)"
   ]
  },
  {
   "cell_type": "code",
   "execution_count": 7,
   "id": "a74c37a5",
   "metadata": {},
   "outputs": [
    {
     "data": {
      "text/plain": [
       "8"
      ]
     },
     "execution_count": 7,
     "metadata": {},
     "output_type": "execute_result"
    }
   ],
   "source": [
    "# Total number of rows:\n",
    "np.shape(np_g)[0]\n",
    "\n",
    "#Total number of Columns: \n",
    "np.shape(np_g)[1]\n"
   ]
  },
  {
   "cell_type": "code",
   "execution_count": null,
   "id": "0c158470",
   "metadata": {},
   "outputs": [],
   "source": [
    "a= np.array([[1,1,1,0,0],\n",
    "             [1,1,1,1,0],\n",
    "             [0,0,0,1,1],\n",
    "             [0,1,0,0,0]])\n",
    "# sum over rows: (a.sum(axis=1))\n",
    "#np.shape(a)[0]\n",
    "index=np.argmax(a.sum(axis=0))\n",
    "print(index)\n",
    "f0=a[a[:,index]==1]  ## select rows where spliting var column is ==1\n",
    "f0[:,index]=0\n",
    "f1=a[a[:,index]==0] \n",
    "dual_matrix=np.zeros((np.shape(f1)[1],np.shape(f1)[1]))  \n",
    "\n",
    "for index, i in enumerate(f1[0]):\n",
    "    if i==1:\n",
    "        dual_matrix[index][index]=1\n",
    "dual_matrix"
   ]
  },
  {
   "cell_type": "code",
   "execution_count": 12,
   "id": "0cf7e2c5",
   "metadata": {},
   "outputs": [],
   "source": [
    "# pre-req\n",
    "#np_f and np_g are numpy arrays\n",
    "check_p=1\n",
    "satisfy=False\n",
    "def check_pre(f,g):\n",
    "# 1. assume var in f and g are the same, but we check if # of columns in f = # of columns in g \n",
    "    if np.shape(f)[1] != np.shape(g)[1]: \n",
    "        print(\"not dual, # of columns in f = # of columns in g\")\n",
    "        return False\n",
    "# 2.check if largest of sum_row in f <= # of rows in g, largest value of sum_row in g <= # of rows in f \n",
    "    #a=max(f['Row_Total'][0:-1])\n",
    "    fmax_sum_row=max(f.sum(axis=1))\n",
    "    gmax_sum_row=max(g.sum(axis=1))\n",
    "    if fmax_sum_row > np.shape(np_g[0]): #f.loc\n",
    "        print(\"not dual, fmax_row_value > len(g)\")\n",
    "        return False\n",
    "    #b=max(g['Row_Total'][0:-1])\n",
    "    if gmax_sum_row > np.shape(np_f[0]):\n",
    "        print(\"not dual, gmax_row_value > len(f)\")\n",
    "        return False\n",
    "# 4. sum 2^(-|c in f|)+sum 2^(-|c in g|) >=1, where c is each sum_row value(for loop)>=1\n",
    "    sum_fg=0\n",
    "    f_row_sum_array=f.sum(axis=1)\n",
    "    g_row_sum_array=g.sum(axis=1)\n",
    "    \n",
    "    for i in range (len(f)-1):\n",
    "        sum_fg+=1/(2**(f_row_sum_array[i]))\n",
    "    for i in range (len(g)-1):\n",
    "        sum_fg+=1/(2**(g_row_sum_array[i])) \n",
    "    if sum_fg < 1:\n",
    "        print(\"not dual, sum_fg < 1\")\n",
    "        return False\n",
    "    \n",
    "# 5. if (# of rows in f) * (# of row in g) >1\n",
    "    if np.shape(f)[0]*np.shape(g)[0] <= 1:\n",
    "        print(\"not dual, (# of rows in f) * (# of row in g) <= 1\")\n",
    "        return False\n",
    "        \n",
    "# 6. C ^ C' != empty\n",
    "#     print(f'The length of f: {len(f)}')\n",
    "    \n",
    "    f_col_sum_array=f.sum(axis=0)\n",
    "    g_col_sum_array=g.sum(axis=0)\n",
    "    \n",
    "    satisfy=False\n",
    "    for i in range(len(f_col_sum_array)):\n",
    "#         import pdb;  pdb.set_trace()\n",
    "        if f_col_sum_array[i] ^ g_col_sum_array[i] == True:\n",
    "            pass\n",
    "        else:\n",
    "            satisfy=True\n",
    "            break\n",
    "    return satisfy"
   ]
  },
  {
   "cell_type": "code",
   "execution_count": 19,
   "id": "23b78e9b",
   "metadata": {},
   "outputs": [],
   "source": [
    "#spiltting, \n",
    "#F0=rows that contains x, change the position of x to 0\n",
    "#F1=rest of the rows\n",
    "def split(f):\n",
    "    # split function return F0, F1 or g0, g1\n",
    "    index=np.argmax(f.sum(axis=0))\n",
    "    f0=f[f[:,index]==1]  ## select rows where spliting var column is ==1\n",
    "    f0[:,index]=0\n",
    "    f1=f[f[:,index]==0]\n",
    "    return f0,f1 \n",
    "\n",
    "def check_dim(L,R):\n",
    "    return (np.shape(L)[0]>1 and np.shape(R)[0]>1)\n",
    "\n",
    "#dual_matrix=[]\n",
    "def print_dual(L,R):\n",
    "    if np.shape(L)[0]==1:\n",
    "        dual_matrix=np.zeros((np.shape(L)[1],np.shape(L)[1]))      \n",
    "        for index, i in enumerate(L[0]):\n",
    "            #print(i)\n",
    "            if i==1:\n",
    "                dual_matrix[index][index]=1\n",
    "    elif np.shape(R)[0]==1:\n",
    "        dual_matrix=np.zeros((np.shape(R)[1],np.shape(R)[1]))      \n",
    "        for index, i in enumerate(R[0]):\n",
    "            #print(i)\n",
    "            if i==1:\n",
    "                dual_matrix[index][index]=1\n",
    "        return dual_matrix\n",
    "                \n",
    "        \n",
    "# e.g.: error_path = [path_0, path_1] = [['L', 'R'], ['L','L','L']]\n",
    "#error_path=[]\n",
    "def fk(L, R, path):\n",
    "    if check_dim(L,R)==False:\n",
    "        #print(f'error path is: {path}')\n",
    "        a=print_dual(L,R)\n",
    "        print(f'There exist a single row matrix, and the dual of it is: {a}')\n",
    "        return\n",
    "    \n",
    "    if check_pre(L,R) == False:\n",
    "        print(f'error path is: {path}')\n",
    "        #error_path.append(path) \n",
    "        return\n",
    "        \n",
    "    else:\n",
    "        f0,f1=split(L)\n",
    "        g0,g1=split(R)\n",
    "        L=np.concatenate((f0, f1),axis=0)\n",
    "        R=g1\n",
    "        print(f\"path:: {path}\")\n",
    "        path.append(\"L\")\n",
    "        fk(L, R, path)\n",
    "        L=np.concatenate((g0,g1), axis=0)\n",
    "        R=f1\n",
    "        path = path[0:-1]\n",
    "        path.append(\"R\")\n",
    "        fk(L, R, path)\n",
    "#     return error_path\n",
    "    \n",
    "    print(\"it is not dual\")"
   ]
  },
  {
   "cell_type": "code",
   "execution_count": 20,
   "id": "a424826f",
   "metadata": {},
   "outputs": [
    {
     "name": "stdout",
     "output_type": "stream",
     "text": [
      "path:: ['L', 'L', 'L', 'L']\n",
      "path:: ['L', 'L', 'L', 'L', 'L']\n",
      "There exist a single row matrix, and the dual of it is: None\n",
      "path:: ['L', 'L', 'L', 'L', 'L', 'R']\n",
      "path:: ['L', 'L', 'L', 'L', 'L', 'R', 'L']\n",
      "path:: ['L', 'L', 'L', 'L', 'L', 'R', 'L', 'L']\n",
      "There exist a single row matrix, and the dual of it is: [[0. 0. 0. 0. 0. 0. 0. 0.]\n",
      " [0. 0. 0. 0. 0. 0. 0. 0.]\n",
      " [0. 0. 0. 0. 0. 0. 0. 0.]\n",
      " [0. 0. 0. 1. 0. 0. 0. 0.]\n",
      " [0. 0. 0. 0. 0. 0. 0. 0.]\n",
      " [0. 0. 0. 0. 0. 0. 0. 0.]\n",
      " [0. 0. 0. 0. 0. 0. 0. 0.]\n",
      " [0. 0. 0. 0. 0. 0. 0. 0.]]\n",
      "There exist a single row matrix, and the dual of it is: [[0. 0. 0. 0. 0. 0. 0. 0.]\n",
      " [0. 0. 0. 0. 0. 0. 0. 0.]\n",
      " [0. 0. 0. 0. 0. 0. 0. 0.]\n",
      " [0. 0. 0. 0. 0. 0. 0. 0.]\n",
      " [0. 0. 0. 0. 0. 0. 0. 0.]\n",
      " [0. 0. 0. 0. 0. 0. 0. 0.]\n",
      " [0. 0. 0. 0. 0. 0. 1. 0.]\n",
      " [0. 0. 0. 0. 0. 0. 0. 1.]]\n",
      "it is not dual\n",
      "There exist a single row matrix, and the dual of it is: [[0. 0. 0. 0. 0. 0. 0. 0.]\n",
      " [0. 0. 0. 0. 0. 0. 0. 0.]\n",
      " [0. 0. 0. 0. 0. 0. 0. 0.]\n",
      " [0. 0. 0. 0. 0. 0. 0. 0.]\n",
      " [0. 0. 0. 0. 0. 0. 0. 0.]\n",
      " [0. 0. 0. 0. 0. 0. 0. 0.]\n",
      " [0. 0. 0. 0. 0. 0. 1. 0.]\n",
      " [0. 0. 0. 0. 0. 0. 0. 1.]]\n",
      "it is not dual\n",
      "There exist a single row matrix, and the dual of it is: None\n",
      "it is not dual\n",
      "it is not dual\n",
      "path:: ['L', 'L', 'L', 'L', 'L', 'R']\n",
      "path:: ['L', 'L', 'L', 'L', 'L', 'R', 'L']\n",
      "not dual, sum_fg < 1\n",
      "error path is: ['L', 'L', 'L', 'L', 'L', 'R', 'L', 'L']\n",
      "path:: ['L', 'L', 'L', 'L', 'L', 'R', 'L', 'R']\n",
      "There exist a single row matrix, and the dual of it is: [[0. 0. 0. 0. 0. 0. 0. 0.]\n",
      " [0. 0. 0. 0. 0. 0. 0. 0.]\n",
      " [0. 0. 0. 0. 0. 0. 0. 0.]\n",
      " [0. 0. 0. 0. 0. 0. 0. 0.]\n",
      " [0. 0. 0. 0. 0. 0. 0. 0.]\n",
      " [0. 0. 0. 0. 0. 0. 0. 0.]\n",
      " [0. 0. 0. 0. 0. 0. 1. 0.]\n",
      " [0. 0. 0. 0. 0. 0. 0. 1.]]\n",
      "path:: ['L', 'L', 'L', 'L', 'L', 'R', 'L', 'R', 'R']\n",
      "There exist a single row matrix, and the dual of it is: [[0. 0. 0. 0. 0. 0. 0. 0.]\n",
      " [0. 0. 0. 0. 0. 0. 0. 0.]\n",
      " [0. 0. 0. 0. 0. 0. 0. 0.]\n",
      " [0. 0. 0. 0. 0. 0. 0. 0.]\n",
      " [0. 0. 0. 0. 0. 0. 0. 0.]\n",
      " [0. 0. 0. 0. 0. 0. 0. 0.]\n",
      " [0. 0. 0. 0. 0. 0. 0. 0.]\n",
      " [0. 0. 0. 0. 0. 0. 0. 1.]]\n",
      "There exist a single row matrix, and the dual of it is: [[0. 0. 0. 0. 0. 0. 0. 0.]\n",
      " [0. 0. 0. 0. 0. 0. 0. 0.]\n",
      " [0. 0. 0. 0. 0. 0. 0. 0.]\n",
      " [0. 0. 0. 0. 0. 0. 0. 0.]\n",
      " [0. 0. 0. 0. 0. 0. 0. 0.]\n",
      " [0. 0. 0. 0. 0. 0. 0. 0.]\n",
      " [0. 0. 0. 0. 0. 0. 1. 0.]\n",
      " [0. 0. 0. 0. 0. 0. 0. 1.]]\n",
      "it is not dual\n",
      "it is not dual\n",
      "it is not dual\n",
      "path:: ['L', 'L', 'L', 'L', 'L', 'R', 'L', 'R']\n",
      "There exist a single row matrix, and the dual of it is: None\n",
      "path:: ['L', 'L', 'L', 'L', 'L', 'R', 'L', 'R', 'R']\n",
      "not dual, sum_fg < 1\n",
      "error path is: ['L', 'L', 'L', 'L', 'L', 'R', 'L', 'R', 'R', 'L']\n",
      "There exist a single row matrix, and the dual of it is: None\n",
      "it is not dual\n",
      "it is not dual\n",
      "it is not dual\n",
      "it is not dual\n"
     ]
    }
   ],
   "source": [
    "#test fk\n",
    "# path=[]\n",
    "# print(type(f))\n",
    "# f = np.array(f)[0:-1, 0:-1]\n",
    "# g = np.array(g)[0:-1, 0:-1]\n",
    "fk(np_f, np_g, path)"
   ]
  },
  {
   "cell_type": "code",
   "execution_count": null,
   "id": "ede482e1",
   "metadata": {},
   "outputs": [],
   "source": [
    "# test for split function \n",
    "print(f)\n",
    "index=np.argmax(np.array(f.loc['Column_Total'][:-1]))\n",
    "i=np.array(f)[0:-1, 0:-1]\n",
    "#print(i)\n",
    "f0=i[i[:,index]!=0]\n",
    "f1=i[i[:,index]==0]\n",
    "f0[:,index]=0\n",
    "print(f0)"
   ]
  },
  {
   "cell_type": "code",
   "execution_count": null,
   "id": "ccbf6c64",
   "metadata": {},
   "outputs": [],
   "source": [
    "#test for dual printer\n",
    "dual_matrix=[]\n",
    "def print_dual(L,R):\n",
    "    if len(L)==1:\n",
    "        dual_matrix=np.zeros((len(f.columns)-1,len(f.columns)-1))      \n",
    "        for index, i in enumerate(f.iloc[0]):\n",
    "            if i==1:\n",
    "                dual_matrix[index][index]=1\n",
    "        return dual_matrix\n",
    "f=f.head(1)\n",
    "print(f)\n",
    "print_dual(f,g)"
   ]
  },
  {
   "cell_type": "code",
   "execution_count": null,
   "id": "ddda3a8f",
   "metadata": {},
   "outputs": [],
   "source": [
    "print(f)\n",
    "L=f.iloc[0:-1,0:-1]\n",
    "#R=g[0:-1, 0:-1]\n",
    "print(len(L))"
   ]
  },
  {
   "cell_type": "code",
   "execution_count": null,
   "id": "849a56b8",
   "metadata": {},
   "outputs": [],
   "source": [
    "np.zeros(5)"
   ]
  },
  {
   "cell_type": "code",
   "execution_count": null,
   "id": "408dd46a",
   "metadata": {},
   "outputs": [],
   "source": []
  }
 ],
 "metadata": {
  "kernelspec": {
   "display_name": "Python 3 (ipykernel)",
   "language": "python",
   "name": "python3"
  },
  "language_info": {
   "codemirror_mode": {
    "name": "ipython",
    "version": 3
   },
   "file_extension": ".py",
   "mimetype": "text/x-python",
   "name": "python",
   "nbconvert_exporter": "python",
   "pygments_lexer": "ipython3",
   "version": "3.9.7"
  }
 },
 "nbformat": 4,
 "nbformat_minor": 5
}
