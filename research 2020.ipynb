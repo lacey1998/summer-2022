{
 "cells": [
  {
   "cell_type": "code",
   "execution_count": null,
   "id": "a28a5009",
   "metadata": {},
   "outputs": [],
   "source": [
    "import numpy as np\n",
    "import pandas as pd"
   ]
  },
  {
   "cell_type": "code",
   "execution_count": null,
   "id": "878b1f1d",
   "metadata": {},
   "outputs": [],
   "source": [
    "data_f = np.array([[1,0,0,1,0],\n",
    "                 [1,1,0,0,0],\n",
    "                 [1,0,0,1,1],\n",
    "                 [1,1,1,0,0]])\n",
    "data_g= np.array([[1,0,0,0,0],\n",
    "                [1,1,1,1,0],\n",
    "                [0,0,1,1,1],\n",
    "                [1,1,0,0,0]])"
   ]
  },
  {
   "cell_type": "code",
   "execution_count": null,
   "id": "49ad4df0",
   "metadata": {},
   "outputs": [],
   "source": [
    "#remove duplicate rows\n",
    "unique_f = np.unique(data_f,axis=0)\n",
    "unique_f\n",
    "unique_g = np.unique(data_g,axis=0)\n",
    "unique_g"
   ]
  },
  {
   "cell_type": "code",
   "execution_count": null,
   "id": "338b79b1",
   "metadata": {},
   "outputs": [],
   "source": [
    "#sort the array by sum(max to min)\n",
    "data_g=sorted(data_g, key=lambda x: sum(x),reverse=True)\n",
    "data_g = np.asarray(data_g)\n",
    "data_g"
   ]
  },
  {
   "cell_type": "code",
   "execution_count": null,
   "id": "c99b3cea",
   "metadata": {},
   "outputs": [],
   "source": [
    "#remove super set\n",
    "for i in range(len(data_g)):\n",
    "    zero_index = np.where(data_g[i] == 0)[0]\n",
    "    if(len(zero_index) != 0):\n",
    "        zero_cols = data_g[:, np.array(zero_index)]\n",
    "        rows_sum = np.sum(zero_cols, axis=1)\n",
    "        print(zero_cols)\n",
    "        print(rows_sum)\n",
    "        if 0 in rows_sum:\n",
    "            np.delete(data_g,i,0)"
   ]
  },
  {
   "cell_type": "code",
   "execution_count": null,
   "id": "a76ab28b",
   "metadata": {},
   "outputs": [],
   "source": [
    "#sum the rows\n",
    "f=pd.DataFrame(unique_f)\n",
    "f.loc['Column_Total']= f.sum(numeric_only=True, axis=0)\n",
    "max_sum_column_f=f.max().max()\n",
    "f.loc[:,'Row_Total'] = f.sum(numeric_only=True,axis=1)\n",
    "#df['sum_row'] = df.sum(axis=1)\n",
    "#df['sum_column'] = df.sum(axis=0)\n",
    "print(f)\n",
    "print(\"the variable that appears max in f is： \", max_sum_column_f)\n",
    "\n",
    "g=pd.DataFrame(unique_g)\n",
    "g.loc['Column_Total']= g.sum(numeric_only=True, axis=0)\n",
    "max_sum_column_g=g.max().max()\n",
    "g.loc[:,'Row_Total'] = g.sum(numeric_only=True,axis=1)\n",
    "#df['sum_row'] = df.sum(axis=1)\n",
    "#df['sum_column'] = df.sum(axis=0)\n",
    "print(g)\n",
    "print(\"the variable that appears max in g is： \", max_sum_column_g)"
   ]
  },
  {
   "cell_type": "code",
   "execution_count": null,
   "id": "8bfea0e1",
   "metadata": {},
   "outputs": [],
   "source": [
    "# pre-req\n",
    "# 1. assume var in f and g are the same, but we check if # of columns in f = # of columns in g \n",
    "if len(f) != len(g): \n",
    "    print(\"does not satisfy the numbers of columns are the same\")\n",
    "# 2.check if largest of sum_row in f <= # of rows in g \n",
    "if max(f.loc[0:3,'Row_Total']) > len(data_g):\n",
    "    print(\"does not satisfy the largest of sum_row in f <= # of rows in g\")\n",
    "# 3. largest value of sum_row in g <= # of rows in f \n",
    "if max(g.loc[0:3,'Row_Total']) > len(data_f):\n",
    "    print(\"does not satisfy the largest of sum_row in g <= # of rows in f\")\n",
    "# 4. sum 2^(-|c in f|)+sum 2^(-|c in g|), where c is each sum_row value(for loop)>=1\n",
    "sum = 0\n",
    "for \n",
    "# 5. if (# of rows in f) * (# of row in g) >1\n",
    "if len(data_f)*len(data_g) <= 1:\n",
    "    print(\"does not satisfy the (# of rows in f) * (# of row in g) >1 \")"
   ]
  },
  {
   "cell_type": "code",
   "execution_count": null,
   "id": "3c1c1790",
   "metadata": {},
   "outputs": [],
   "source": [
    "#spiltting, max sum_column variable is the splitting var x\n",
    "#F0=rows that contains x, change the position of x to 0\n",
    "#F1= rest of the rows"
   ]
  }
 ],
 "metadata": {
  "kernelspec": {
   "display_name": "Python 3 (ipykernel)",
   "language": "python",
   "name": "python3"
  },
  "language_info": {
   "codemirror_mode": {
    "name": "ipython",
    "version": 3
   },
   "file_extension": ".py",
   "mimetype": "text/x-python",
   "name": "python",
   "nbconvert_exporter": "python",
   "pygments_lexer": "ipython3",
   "version": "3.9.7"
  }
 },
 "nbformat": 4,
 "nbformat_minor": 5
}
